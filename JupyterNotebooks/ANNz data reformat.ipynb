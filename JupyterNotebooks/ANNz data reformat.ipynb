{
 "cells": [
  {
   "cell_type": "code",
   "execution_count": 1,
   "metadata": {},
   "outputs": [],
   "source": [
    "%matplotlib inline\n",
    "\n",
    "\n",
    "import pandas as pd\n",
    "import numpy as np\n",
    "import matplotlib.pyplot as plt\n",
    "from matplotlib.colors import LogNorm\n",
    "import astropy.cosmology\n",
    "import scipy.stats\n",
    "import time\n",
    "from useful_funcs import PAUSflux_to_ABmag"
   ]
  },
  {
   "cell_type": "code",
   "execution_count": 2,
   "metadata": {},
   "outputs": [],
   "source": [
    "data = pd.read_pickle(\"../../Data/Object_zs_zp_181203_130401.pkl.gz\")"
   ]
  },
  {
   "cell_type": "code",
   "execution_count": 3,
   "metadata": {},
   "outputs": [
    {
     "data": {
      "text/plain": [
       "array(['ref_id', 'zb', 'odds', 'pz_width', 'zb_mean', 'chi2', 'n_band',\n",
       "       'ebv', 'qz', 'best_run', 'production_id', 'paudm_id', 'ra', 'dec',\n",
       "       'zp_gal', 'zl68_gal', 'zu68_gal', 'zl99_gal', 'zu99_gal', 'zp_sec',\n",
       "       'dchi', 'imag', 'ei', 'i_auto', 'nbfilt', 'mod_gal', 'type',\n",
       "       'umag', 'bmag', 'vmag', 'gmag', 'rmag', 'zmag', 'icmag', 'jmag',\n",
       "       'kmag', 'mv', 'ebv_gal', 'ebv_int', 'acs_a_image', 'acs_b_image',\n",
       "       'acs_theta_image', 'acs_mag_auto', 'acs_magerr_auto', 'zspec',\n",
       "       'conf', 'f814w', 'zfits', 'r50', 'sersic_n_gim2d', '_col50',\n",
       "       '_col54', 'n_coadd', 'run', '_col57', 'band0', 'band1', 'band2',\n",
       "       'band3', 'band4', 'band5', 'band6', 'band7', 'band8', 'band9',\n",
       "       'band10', 'band11', 'band12', 'band13', 'band14', 'band15',\n",
       "       'band16', 'band17', 'band18', 'band19', 'band20', 'band21',\n",
       "       'band22', 'band23', 'band24', 'band25', 'band26', 'band27',\n",
       "       'band28', 'band29', 'band30', 'band31', 'band32', 'band33',\n",
       "       'band34', 'band35', 'band36', 'band37', 'band38', 'band39',\n",
       "       'band0_flux', 'band1_flux', 'band2_flux', 'band3_flux',\n",
       "       'band4_flux', 'band5_flux', 'band6_flux', 'band7_flux',\n",
       "       'band8_flux', 'band9_flux', 'band10_flux', 'band11_flux',\n",
       "       'band12_flux', 'band13_flux', 'band14_flux', 'band15_flux',\n",
       "       'band16_flux', 'band17_flux', 'band18_flux', 'band19_flux',\n",
       "       'band20_flux', 'band21_flux', 'band22_flux', 'band23_flux',\n",
       "       'band24_flux', 'band25_flux', 'band26_flux', 'band27_flux',\n",
       "       'band28_flux', 'band29_flux', 'band30_flux', 'band31_flux',\n",
       "       'band32_flux', 'band33_flux', 'band34_flux', 'band35_flux',\n",
       "       'band36_flux', 'band37_flux', 'band38_flux', 'band39_flux',\n",
       "       'band0_flux_error', 'band1_flux_error', 'band2_flux_error',\n",
       "       'band3_flux_error', 'band4_flux_error', 'band5_flux_error',\n",
       "       'band6_flux_error', 'band7_flux_error', 'band8_flux_error',\n",
       "       'band9_flux_error', 'band10_flux_error', 'band11_flux_error',\n",
       "       'band12_flux_error', 'band13_flux_error', 'band14_flux_error',\n",
       "       'band15_flux_error', 'band16_flux_error', 'band17_flux_error',\n",
       "       'band18_flux_error', 'band19_flux_error', 'band20_flux_error',\n",
       "       'band21_flux_error', 'band22_flux_error', 'band23_flux_error',\n",
       "       'band24_flux_error', 'band25_flux_error', 'band26_flux_error',\n",
       "       'band27_flux_error', 'band28_flux_error', 'band29_flux_error',\n",
       "       'band30_flux_error', 'band31_flux_error', 'band32_flux_error',\n",
       "       'band33_flux_error', 'band34_flux_error', 'band35_flux_error',\n",
       "       'band36_flux_error', 'band37_flux_error', 'band38_flux_error',\n",
       "       'band39_flux_error', 'n_bands'], dtype=object)"
      ]
     },
     "execution_count": 3,
     "metadata": {},
     "output_type": "execute_result"
    }
   ],
   "source": [
    "data.columns.values\n",
    "# data['production_id'].unique()"
   ]
  },
  {
   "cell_type": "code",
   "execution_count": 4,
   "metadata": {},
   "outputs": [],
   "source": [
    "def magAB_to_flux(mag):\n",
    "    flux = 10**((mag -26 )/-2.5)\n",
    "    return flux"
   ]
  },
  {
   "cell_type": "code",
   "execution_count": 5,
   "metadata": {},
   "outputs": [],
   "source": [
    "\n",
    "\n",
    "median_qz = np.median(data['qz'])\n",
    "cut_mask = (data['n_bands']==40) #& (data['zspec'] <= 1.2) & (data['zspec'] != 0)#(data['qz'] < median_qz) # \n",
    "extra_cols = ['ref_id','zb','pz_width','odds','qz','production_id','paudm_id','ra','dec','zspec','conf']\n",
    "\n",
    "flux_sample = data.loc[cut_mask,'band0_flux':'band39_flux_error']\n",
    "#error_sample = data.loc[:,'band0_flux_error':'band9_flux_error']\n",
    "zs = data.loc[cut_mask,extra_cols]\n",
    "mags = data.loc[cut_mask,['i_auto', 'umag', 'bmag', 'vmag', 'gmag', 'rmag', 'jmag', 'kmag']]\n",
    "\n",
    "\n",
    "# magerrors = np.zeros(mags.values.shape)\n",
    "magerrors = (magAB_to_flux(mags-0.02) - magAB_to_flux(mags+0.02))/2\n",
    "magerrors.columns = ['i_auto_err','umag_err','bmag_err','vmag_err','gmag_err','rmag_err','jmag_err','kmag_err']\n",
    "magerrors\n",
    "mags = magAB_to_flux(mags)\n",
    "# magerrors[:] = mags \n",
    "# mags\n",
    "\n",
    "\n",
    "# magerrors = pd.DataFrame({'i_auto_err':magerrors,'umag_err':magerrors,'bmag_err':magerrors,'vmag_err':magerrors,\\\n",
    "#                          'gmag_err':magerrors,'rmag_err':magerrors,'jmag_err':magerrors,'kmag_err':magerrors},index=mags.index)\n"
   ]
  },
  {
   "cell_type": "code",
   "execution_count": 6,
   "metadata": {},
   "outputs": [
    {
     "name": "stdout",
     "output_type": "stream",
     "text": [
      "Data code?11\n"
     ]
    }
   ],
   "source": [
    "datacode = input(\"Data code?\")\n",
    "# mags = PAUSflux_to_ABmag(flux_sample).fillna(0)\n",
    "complete = zs.join(mags).join(magerrors).join(flux_sample)\n",
    "# complete.index.values.shape\n",
    "\n",
    "shuffled = complete.sample(frac=1).reset_index(drop=True)\n",
    "n_rows = shuffled.shape[0]\n",
    "# print(np.floor(n_rows/3).astype(int))\n",
    "\n",
    "# Splitting into 1 dataset\n",
    "shuffled.to_csv(\"../../Data/ANNz_data\"+datacode+\".csv\",index=False,na_rep=np.nan)\n",
    "\n",
    "# Splitting into 3 datasets\n",
    "# shuffled.iloc[:np.floor(n_rows*2/3).astype(int)].to_csv(\"../../Data/ANNz_data\"+datacode+\"a.csv\",index=False,na_rep=np.nan)\n",
    "# shuffled.iloc[np.floor(n_rows*2/3).astype(int):np.floor(n_rows*5/6).astype(int)].to_csv(\"../../Data/ANNz_data\"+datacode+\"b.csv\",index=False,na_rep=np.nan)\n",
    "# shuffled.iloc[np.floor(n_rows*5/6).astype(int):].to_csv(\"../../Data/ANNz_data\"+datacode+\"c.csv\",index=False,na_rep=np.nan)\n",
    "\n"
   ]
  },
  {
   "cell_type": "code",
   "execution_count": 7,
   "metadata": {},
   "outputs": [
    {
     "data": {
      "text/plain": [
       "' abs(band25_flux/band25_flux_error) + abs(band26_flux/band26_flux_error) + abs(band27_flux/band27_flux_error) + abs(band28_flux/band28_flux_error) + abs(band29_flux/band29_flux_error) + abs(band30_flux/band30_flux_error) + abs(band31_flux/band31_flux_error) + abs(band32_flux/band32_flux_error) + abs(band33_flux/band33_flux_error) + abs(band34_flux/band34_flux_error) + abs(band35_flux/band35_flux_error) + abs(band36_flux/band36_flux_error) + abs(band37_flux/band37_flux_error) + abs(band38_flux/band38_flux_error) +'"
      ]
     },
     "execution_count": 7,
     "metadata": {},
     "output_type": "execute_result"
    }
   ],
   "source": [
    "# shuffled.loc[13,'band0_flux']\n",
    "# flux_sample.loc[flux_sample['band0_flux']==4.45071]\n",
    "# data.loc[data['ref_id']==100477,['ref_id','i_auto', 'umag', 'bmag', 'vmag', 'gmag', 'rmag', 'jmag', 'kmag']]\n",
    "# flux_sample\n",
    "# data.loc[:,'band25':'band38']\n",
    "\n",
    "string = \"\"\n",
    "for i in range(25,38+1):\n",
    "    string = string + \" abs(band{0}_flux/band{0}_flux_error) +\".format(i)\n",
    "\n",
    "string"
   ]
  },
  {
   "cell_type": "code",
   "execution_count": 7,
   "metadata": {},
   "outputs": [
    {
     "data": {
      "text/plain": [
       "'F:ref_id;F:zb;F:pz_width;F:odds;F:qz;F:production_id;F:paudm_id;F:ra;F:dec;F:zspec;F:conf;F:i_auto;F:umag;F:bmag;F:vmag;F:gmag;F:rmag;F:jmag;F:kmag;F:i_auto_err;F:umag_err;F:bmag_err;F:vmag_err;F:gmag_err;F:rmag_err;F:jmag_err;F:kmag_err;F:band0_flux;F:band1_flux;F:band2_flux;F:band3_flux;F:band4_flux;F:band5_flux;F:band6_flux;F:band7_flux;F:band8_flux;F:band9_flux;F:band10_flux;F:band11_flux;F:band12_flux;F:band13_flux;F:band14_flux;F:band15_flux;F:band16_flux;F:band17_flux;F:band18_flux;F:band19_flux;F:band20_flux;F:band21_flux;F:band22_flux;F:band23_flux;F:band24_flux;F:band25_flux;F:band26_flux;F:band27_flux;F:band28_flux;F:band29_flux;F:band30_flux;F:band31_flux;F:band32_flux;F:band33_flux;F:band34_flux;F:band35_flux;F:band36_flux;F:band37_flux;F:band38_flux;F:band39_flux;F:band0_flux_error;F:band1_flux_error;F:band2_flux_error;F:band3_flux_error;F:band4_flux_error;F:band5_flux_error;F:band6_flux_error;F:band7_flux_error;F:band8_flux_error;F:band9_flux_error;F:band10_flux_error;F:band11_flux_error;F:band12_flux_error;F:band13_flux_error;F:band14_flux_error;F:band15_flux_error;F:band16_flux_error;F:band17_flux_error;F:band18_flux_error;F:band19_flux_error;F:band20_flux_error;F:band21_flux_error;F:band22_flux_error;F:band23_flux_error;F:band24_flux_error;F:band25_flux_error;F:band26_flux_error;F:band27_flux_error;F:band28_flux_error;F:band29_flux_error;F:band30_flux_error;F:band31_flux_error;F:band32_flux_error;F:band33_flux_error;F:band34_flux_error;F:band35_flux_error;F:band36_flux_error;F:band37_flux_error;F:band38_flux_error;F:band39_flux_error;'"
      ]
     },
     "execution_count": 7,
     "metadata": {},
     "output_type": "execute_result"
    }
   ],
   "source": [
    "\n",
    "string = \"\"\n",
    "for i in complete.columns.values:\n",
    "    string += \"F:\" + i + \";\"\n",
    "    \n",
    "string"
   ]
  },
  {
   "cell_type": "code",
   "execution_count": 9,
   "metadata": {
    "scrolled": true
   },
   "outputs": [
    {
     "data": {
      "text/plain": [
       "'band0_flux;band1_flux;band2_flux;band3_flux;band4_flux;band5_flux;band6_flux;band7_flux;band8_flux;band9_flux;band10_flux;band11_flux;band12_flux;band13_flux;band14_flux;band15_flux;band16_flux;band17_flux;band18_flux;band19_flux;band20_flux;band21_flux;band22_flux;band23_flux;band24_flux;band25_flux;band26_flux;band27_flux;band28_flux;band29_flux;band30_flux;band31_flux;band32_flux;band33_flux;band34_flux;band35_flux;band36_flux;band37_flux;band38_flux;band39_flux;band0_flux_error;band1_flux_error;band2_flux_error;band3_flux_error;band4_flux_error;band5_flux_error;band6_flux_error;band7_flux_error;band8_flux_error;band9_flux_error;band10_flux_error;band11_flux_error;band12_flux_error;band13_flux_error;band14_flux_error;band15_flux_error;band16_flux_error;band17_flux_error;band18_flux_error;band19_flux_error;band20_flux_error;band21_flux_error;band22_flux_error;band23_flux_error;band24_flux_error;band25_flux_error;band26_flux_error;band27_flux_error;band28_flux_error;band29_flux_error;band30_flux_error;band31_flux_error;band32_flux_error;band33_flux_error;band34_flux_error;band35_flux_error;band36_flux_error;band37_flux_error;band38_flux_error;band39_flux_error;'"
      ]
     },
     "execution_count": 9,
     "metadata": {},
     "output_type": "execute_result"
    }
   ],
   "source": [
    "string = \"\"\n",
    "for i in complete.columns.values[27:]:\n",
    "    string += i + \";\"\n",
    "    \n",
    "string"
   ]
  },
  {
   "cell_type": "code",
   "execution_count": 9,
   "metadata": {},
   "outputs": [
    {
     "data": {
      "text/plain": [
       "'ref_id;zb;pz_width;odds;qz;production_id;paudm_id;ra;dec;zspec;conf;'"
      ]
     },
     "execution_count": 9,
     "metadata": {},
     "output_type": "execute_result"
    }
   ],
   "source": [
    "string = \"\"\n",
    "for i in complete.columns.values[:11]:\n",
    "    string += i + \";\"\n",
    "    \n",
    "string"
   ]
  },
  {
   "cell_type": "code",
   "execution_count": null,
   "metadata": {},
   "outputs": [],
   "source": []
  }
 ],
 "metadata": {
  "kernelspec": {
   "display_name": "Python 3",
   "language": "python",
   "name": "python3"
  },
  "language_info": {
   "codemirror_mode": {
    "name": "ipython",
    "version": 3
   },
   "file_extension": ".py",
   "mimetype": "text/x-python",
   "name": "python",
   "nbconvert_exporter": "python",
   "pygments_lexer": "ipython3",
   "version": "3.6.7"
  }
 },
 "nbformat": 4,
 "nbformat_minor": 2
}
