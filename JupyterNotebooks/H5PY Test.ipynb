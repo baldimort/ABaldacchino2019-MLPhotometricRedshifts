{
 "cells": [
  {
   "cell_type": "code",
   "execution_count": 10,
   "metadata": {},
   "outputs": [],
   "source": [
    "import h5py\n",
    "import numpy as np"
   ]
  },
  {
   "cell_type": "code",
   "execution_count": 7,
   "metadata": {},
   "outputs": [],
   "source": [
    "file = h5py.File('/mnt/e/Downloads/Light Cone Data/Gonzalez13.PAU.MillGas.field1.photometry.0.hdf5','r')"
   ]
  },
  {
   "cell_type": "code",
   "execution_count": 5,
   "metadata": {},
   "outputs": [
    {
     "data": {
      "text/plain": [
       "['Data', 'Header', 'Version']"
      ]
     },
     "execution_count": 5,
     "metadata": {},
     "output_type": "execute_result"
    }
   ],
   "source": [
    "list(file.keys())"
   ]
  },
  {
   "cell_type": "code",
   "execution_count": 13,
   "metadata": {},
   "outputs": [],
   "source": [
    "DATA = file['Data']"
   ]
  },
  {
   "cell_type": "code",
   "execution_count": 15,
   "metadata": {},
   "outputs": [
    {
     "data": {
      "text/plain": [
       "['GalaxyID',\n",
       " 'app10o_tot',\n",
       " 'app10o_tot_ext',\n",
       " 'app11o_tot',\n",
       " 'app11o_tot_ext',\n",
       " 'app12o_tot',\n",
       " 'app12o_tot_ext',\n",
       " 'app13o_tot',\n",
       " 'app13o_tot_ext',\n",
       " 'app14o_tot',\n",
       " 'app14o_tot_ext',\n",
       " 'app15o_tot',\n",
       " 'app15o_tot_ext',\n",
       " 'app16o_tot',\n",
       " 'app16o_tot_ext',\n",
       " 'app17o_tot',\n",
       " 'app17o_tot_ext',\n",
       " 'app18o_tot',\n",
       " 'app18o_tot_ext',\n",
       " 'app19o_tot',\n",
       " 'app19o_tot_ext',\n",
       " 'app20o_tot',\n",
       " 'app20o_tot_ext',\n",
       " 'app21o_tot',\n",
       " 'app21o_tot_ext',\n",
       " 'app22o_tot',\n",
       " 'app22o_tot_ext',\n",
       " 'app23o_tot',\n",
       " 'app23o_tot_ext',\n",
       " 'app24o_tot',\n",
       " 'app24o_tot_ext',\n",
       " 'app25o_tot',\n",
       " 'app25o_tot_ext',\n",
       " 'app26o_tot',\n",
       " 'app26o_tot_ext',\n",
       " 'app27o_tot',\n",
       " 'app27o_tot_ext',\n",
       " 'app28o_tot',\n",
       " 'app28o_tot_ext',\n",
       " 'app29o_tot',\n",
       " 'app29o_tot_ext',\n",
       " 'app30o_tot',\n",
       " 'app30o_tot_ext',\n",
       " 'app31o_tot',\n",
       " 'app31o_tot_ext',\n",
       " 'app32o_tot',\n",
       " 'app32o_tot_ext',\n",
       " 'app33o_tot',\n",
       " 'app33o_tot_ext',\n",
       " 'app34o_tot',\n",
       " 'app34o_tot_ext',\n",
       " 'app35o_tot',\n",
       " 'app35o_tot_ext',\n",
       " 'app36o_tot',\n",
       " 'app36o_tot_ext',\n",
       " 'app37o_tot',\n",
       " 'app37o_tot_ext',\n",
       " 'app38o_tot',\n",
       " 'app38o_tot_ext',\n",
       " 'app39o_tot',\n",
       " 'app39o_tot_ext',\n",
       " 'app40o_tot',\n",
       " 'app40o_tot_ext',\n",
       " 'app41o_tot',\n",
       " 'app41o_tot_ext',\n",
       " 'app42o_tot',\n",
       " 'app42o_tot_ext',\n",
       " 'app43o_tot',\n",
       " 'app43o_tot_ext',\n",
       " 'app44o_tot',\n",
       " 'app44o_tot_ext',\n",
       " 'app45o_tot',\n",
       " 'app45o_tot_ext',\n",
       " 'app46o_tot',\n",
       " 'app46o_tot_ext',\n",
       " 'app47o_tot',\n",
       " 'app47o_tot_ext',\n",
       " 'app48o_tot',\n",
       " 'app48o_tot_ext',\n",
       " 'app49o_tot',\n",
       " 'app49o_tot_ext',\n",
       " 'appKo_tot',\n",
       " 'appKo_tot_ext',\n",
       " 'appMio_tot',\n",
       " 'appOgo_tot',\n",
       " 'appOgo_tot_ext',\n",
       " 'appOio_tot',\n",
       " 'appOio_tot_ext',\n",
       " 'appOro_tot',\n",
       " 'appOro_tot_ext',\n",
       " 'appP0o_tot',\n",
       " 'appP0o_tot_ext',\n",
       " 'appP1o_tot',\n",
       " 'appP1o_tot_ext',\n",
       " 'appP2o_tot',\n",
       " 'appP2o_tot_ext',\n",
       " 'appP3o_tot',\n",
       " 'appP3o_tot_ext',\n",
       " 'appP4o_tot',\n",
       " 'appP4o_tot_ext',\n",
       " 'appP5o_tot',\n",
       " 'appP5o_tot_ext',\n",
       " 'appP6o_tot',\n",
       " 'appP6o_tot_ext',\n",
       " 'appP7o_tot',\n",
       " 'appP7o_tot_ext',\n",
       " 'appP8o_tot',\n",
       " 'appP8o_tot_ext',\n",
       " 'appP9o_tot',\n",
       " 'appP9o_tot_ext',\n",
       " 'appgSo_tot',\n",
       " 'appgSo_tot_ext',\n",
       " 'appiSo_tot',\n",
       " 'appiSo_tot_ext',\n",
       " 'apprSo_tot',\n",
       " 'apprSo_tot_ext',\n",
       " 'appuSo_tot',\n",
       " 'appuSo_tot_ext',\n",
       " 'appzSo_tot',\n",
       " 'appzSo_tot_ext',\n",
       " 'mag10r_tot',\n",
       " 'mag10r_tot_ext',\n",
       " 'mag11r_tot',\n",
       " 'mag11r_tot_ext',\n",
       " 'mag12r_tot',\n",
       " 'mag12r_tot_ext',\n",
       " 'mag13r_tot',\n",
       " 'mag13r_tot_ext',\n",
       " 'mag14r_tot',\n",
       " 'mag14r_tot_ext',\n",
       " 'mag15r_tot',\n",
       " 'mag15r_tot_ext',\n",
       " 'mag16r_tot',\n",
       " 'mag16r_tot_ext',\n",
       " 'mag17r_tot',\n",
       " 'mag17r_tot_ext',\n",
       " 'mag18r_tot',\n",
       " 'mag18r_tot_ext',\n",
       " 'mag19r_tot',\n",
       " 'mag19r_tot_ext',\n",
       " 'mag20r_tot',\n",
       " 'mag20r_tot_ext',\n",
       " 'mag21r_tot',\n",
       " 'mag21r_tot_ext',\n",
       " 'mag22r_tot',\n",
       " 'mag22r_tot_ext',\n",
       " 'mag23r_tot',\n",
       " 'mag23r_tot_ext',\n",
       " 'mag24r_tot',\n",
       " 'mag24r_tot_ext',\n",
       " 'mag25r_tot',\n",
       " 'mag25r_tot_ext',\n",
       " 'mag26r_tot',\n",
       " 'mag26r_tot_ext',\n",
       " 'mag27r_tot',\n",
       " 'mag27r_tot_ext',\n",
       " 'mag28r_tot',\n",
       " 'mag28r_tot_ext',\n",
       " 'mag29r_tot',\n",
       " 'mag29r_tot_ext',\n",
       " 'mag30r_tot',\n",
       " 'mag30r_tot_ext',\n",
       " 'mag31r_tot',\n",
       " 'mag31r_tot_ext',\n",
       " 'mag32r_tot',\n",
       " 'mag32r_tot_ext',\n",
       " 'mag33r_tot',\n",
       " 'mag33r_tot_ext',\n",
       " 'mag34r_tot',\n",
       " 'mag34r_tot_ext',\n",
       " 'mag35r_tot',\n",
       " 'mag35r_tot_ext',\n",
       " 'mag36r_tot',\n",
       " 'mag36r_tot_ext',\n",
       " 'mag37r_tot',\n",
       " 'mag37r_tot_ext',\n",
       " 'mag38r_tot',\n",
       " 'mag38r_tot_ext',\n",
       " 'mag39r_tot',\n",
       " 'mag39r_tot_ext',\n",
       " 'mag40r_tot',\n",
       " 'mag40r_tot_ext',\n",
       " 'mag41r_tot',\n",
       " 'mag41r_tot_ext',\n",
       " 'mag42r_tot',\n",
       " 'mag42r_tot_ext',\n",
       " 'mag43r_tot',\n",
       " 'mag43r_tot_ext',\n",
       " 'mag44r_tot',\n",
       " 'mag44r_tot_ext',\n",
       " 'mag45r_tot',\n",
       " 'mag45r_tot_ext',\n",
       " 'mag46r_tot',\n",
       " 'mag46r_tot_ext',\n",
       " 'mag47r_tot',\n",
       " 'mag47r_tot_ext',\n",
       " 'mag48r_tot',\n",
       " 'mag48r_tot_ext',\n",
       " 'mag49r_tot',\n",
       " 'mag49r_tot_ext',\n",
       " 'magKr_tot',\n",
       " 'magKr_tot_ext',\n",
       " 'magMir_tot',\n",
       " 'magMir_tot_ext',\n",
       " 'magOgr_tot',\n",
       " 'magOgr_tot_ext',\n",
       " 'magOir_tot',\n",
       " 'magOir_tot_ext',\n",
       " 'magOrr_tot',\n",
       " 'magOrr_tot_ext',\n",
       " 'magP0r_tot',\n",
       " 'magP0r_tot_ext',\n",
       " 'magP1r_tot',\n",
       " 'magP1r_tot_ext',\n",
       " 'magP2r_tot',\n",
       " 'magP2r_tot_ext',\n",
       " 'magP3r_tot',\n",
       " 'magP3r_tot_ext',\n",
       " 'magP4r_tot',\n",
       " 'magP4r_tot_ext',\n",
       " 'magP5r_tot',\n",
       " 'magP5r_tot_ext',\n",
       " 'magP6r_tot',\n",
       " 'magP6r_tot_ext',\n",
       " 'magP7r_tot',\n",
       " 'magP7r_tot_ext',\n",
       " 'magP8r_tot',\n",
       " 'magP8r_tot_ext',\n",
       " 'magP9r_tot',\n",
       " 'magP9r_tot_ext',\n",
       " 'maggSr_tot',\n",
       " 'maggSr_tot_ext',\n",
       " 'magiSr_tot',\n",
       " 'magiSr_tot_ext',\n",
       " 'magrSr_tot',\n",
       " 'magrSr_tot_ext',\n",
       " 'maguSr_tot',\n",
       " 'maguSr_tot_ext',\n",
       " 'magzSr_tot',\n",
       " 'magzSr_tot_ext']"
      ]
     },
     "execution_count": 15,
     "metadata": {},
     "output_type": "execute_result"
    }
   ],
   "source": [
    "list(DATA.keys())"
   ]
  },
  {
   "cell_type": "code",
   "execution_count": 35,
   "metadata": {},
   "outputs": [
    {
     "data": {
      "text/plain": [
       "<HDF5 dataset \"app10o_tot\": shape (7403978,), type \"<f4\">"
      ]
     },
     "execution_count": 35,
     "metadata": {},
     "output_type": "execute_result"
    }
   ],
   "source": [
    "file['Data']['app10o_tot']"
   ]
  },
  {
   "cell_type": "code",
   "execution_count": 2,
   "metadata": {},
   "outputs": [],
   "source": [
    "cols = []\n",
    "for i in range(10,50):\n",
    "    cols.append('app{0!s}o_tot'.format(i))"
   ]
  },
  {
   "cell_type": "code",
   "execution_count": 14,
   "metadata": {},
   "outputs": [
    {
     "data": {
      "text/plain": [
       "<HDF5 dataset \"app10o_tot\": shape (7403978,), type \"<f4\">"
      ]
     },
     "execution_count": 14,
     "metadata": {},
     "output_type": "execute_result"
    }
   ],
   "source": [
    "file['Data'][cols[0]]"
   ]
  },
  {
   "cell_type": "code",
   "execution_count": null,
   "metadata": {},
   "outputs": [],
   "source": []
  }
 ],
 "metadata": {
  "kernelspec": {
   "display_name": "Python 3",
   "language": "python",
   "name": "python3"
  },
  "language_info": {
   "codemirror_mode": {
    "name": "ipython",
    "version": 3
   },
   "file_extension": ".py",
   "mimetype": "text/x-python",
   "name": "python",
   "nbconvert_exporter": "python",
   "pygments_lexer": "ipython3",
   "version": "3.6.6"
  }
 },
 "nbformat": 4,
 "nbformat_minor": 2
}
