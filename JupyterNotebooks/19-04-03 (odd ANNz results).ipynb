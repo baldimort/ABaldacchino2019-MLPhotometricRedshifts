{
 "cells": [
  {
   "cell_type": "code",
   "execution_count": 2,
   "metadata": {},
   "outputs": [],
   "source": [
    "%matplotlib inline\n",
    "\n",
    "import pandas as pd\n",
    "import numpy as np\n",
    "import matplotlib.pyplot as plt\n",
    "from matplotlib.colors import LogNorm\n",
    "import astropy.cosmology\n",
    "import scipy.stats\n",
    "import time\n",
    "from useful_funcs import PAUSflux_to_ABmag\n",
    "import h5py\n",
    "import matplotlib.colors\n",
    "import os\n",
    "from SAVEFIG import main as custom_SAVEFIG\n",
    "\n",
    "latex_textwidth = 455.24#pt\n",
    "\n",
    "def fixed_aspect_ratio(ratio):\n",
    "    '''\n",
    "    Set a fixed aspect ratio on matplotlib plots \n",
    "    regardless of axis units\n",
    "    '''\n",
    "    xvals,yvals = plt.gca().axes.get_xlim(),plt.gca().axes.get_ylim()\n",
    "\n",
    "    xrange = xvals[1]-xvals[0]\n",
    "    yrange = yvals[1]-yvals[0]\n",
    "    plt.gca().set_aspect(ratio*(xrange/yrange), adjustable='box')\n",
    "\n",
    "#matplotlib.rcParams['agg.path.chunksize'] = 10000"
   ]
  },
  {
   "cell_type": "code",
   "execution_count": 4,
   "metadata": {},
   "outputs": [],
   "source": [
    "from astropy.cosmology import Planck15 as cosmo\n",
    "\n",
    "cosmo = cosmo.clone(name='Planck15 H0 = 100', H0=100) #setting H0 = 100 km/s/MPc, h = 1\n"
   ]
  },
  {
   "cell_type": "code",
   "execution_count": 5,
   "metadata": {},
   "outputs": [],
   "source": [
    "data = pd.read_pickle(\"../../Data/Object_zs_zp_181203_130401.pkl.gz\")\n",
    "\n",
    "\n",
    "lcCoreFilename = \"Gonzalez13.PAU.MillGas.field1.core.0.hdf5\"\n",
    "lcPhotomFilename = \"Gonzalez13.PAU.MillGas.field1.photometry.0.hdf5\"\n",
    "\n",
    "if os.environ['NAME'] == 'DESKTOP-RB5C8OC': \n",
    "    file_path = '/mnt/e/L4ProjectLocal/LightConeData/'\n",
    "elif os.environ['NAME'] == 'LaNaranjaDos':\n",
    "    file_path = '/mnt/c/Users/Andrew/L4ProjectLocal/Light Cone Data/'\n",
    "else: raise Exception('Device not configured for hdf5 data load')\n",
    "\n",
    "LC_DATA_CORE = h5py.File(file_path+lcCoreFilename, \"r\")\n",
    "LC_DATA_PHOTOM = h5py.File(file_path+lcPhotomFilename, \"r\")"
   ]
  },
  {
   "cell_type": "code",
   "execution_count": 6,
   "metadata": {},
   "outputs": [],
   "source": [
    "r1, g1, b1 = 255, 235, 247\n",
    "r1, g1, b1 = r1/255, g1/255, b1/255\n",
    "\n",
    "cdict1 = {'red':   ((0.0, r1, r1),\n",
    "                   (1.0, 0.75, 0.75)),\n",
    "\n",
    "         'green': ((0.0, g1, g1),\n",
    "                   (1.0, 0.04, 0.04)),\n",
    "\n",
    "         'blue':  ((0.0, b1, b1),\n",
    "                   (1.0, 0.4, 0.4)),\n",
    "          \n",
    "         'alpha': ((0.0, 0.0, 0.0),\n",
    "                   (1e-20, 0.5, 0.5),\n",
    "                    (1.0, 0.5, 0.5))\n",
    "        }\n",
    "\n",
    "clear_purple = matplotlib.colors.LinearSegmentedColormap('ClearPurple', cdict1)\n",
    "plt.register_cmap(cmap=clear_purple)"
   ]
  },
  {
   "cell_type": "code",
   "execution_count": 4,
   "metadata": {},
   "outputs": [],
   "source": [
    "def ub68(x):\n",
    "    return np.percentile(x,50+34.1)\n",
    "\n",
    "def lb68(x):\n",
    "    return np.percentile(x,50-34.1)\n",
    "\n",
    "def normed_error(zannz,zpaus):\n",
    "    return (zannz-zpaus)/(1+zpaus)\n",
    "\n",
    "def compute_error_stats_spec(DFrame):\n",
    "    z_annz = DFrame['F:ANNZ_best']\n",
    "    z_paus = DFrame['F:zspec']\n",
    "    z_annz_errors = DFrame['F:ANNZ_best_err']\n",
    "\n",
    "    error = z_annz - z_paus\n",
    "    normed_error = error / (1+z_paus)\n",
    "\n",
    "    outliers_idx = abs(normed_error) > 0.15\n",
    "    out_perc = outliers_idx.sum()/outliers_idx.size *100\n",
    "\n",
    "    return [normed_error.mean(),np.std(normed_error),(ub68(normed_error)-lb68(normed_error))/2,out_perc],[z_annz.values,z_annz_errors.values,z_paus.values]\n",
    "\n",
    "\n",
    "def compute_error_stats_paus(DFrame):\n",
    "    z_annz = DFrame['F:ANNZ_best']\n",
    "    z_paus = DFrame['F:Z']\n",
    "    z_annz_errors = DFrame['F:ANNZ_best_err']\n",
    "\n",
    "    error = z_annz - z_paus\n",
    "    normed_error = error / (1+z_paus)\n",
    "\n",
    "    outliers_idx = abs(normed_error) > 0.15\n",
    "    out_perc = outliers_idx.sum()/outliers_idx.size *100\n",
    "\n",
    "    return [normed_error.mean(),np.std(normed_error),(ub68(normed_error)-lb68(normed_error))/2,out_perc],[z_annz.values,z_annz_errors.values,z_paus.values]"
   ]
  },
  {
   "cell_type": "markdown",
   "metadata": {},
   "source": [
    "# SPEC_advanced23 results"
   ]
  },
  {
   "cell_type": "code",
   "execution_count": 6,
   "metadata": {},
   "outputs": [
    {
     "name": "stdout",
     "output_type": "stream",
     "text": [
      "Pre-cut size = 2232\n",
      "\n",
      "Post-cut size = 2230\n"
     ]
    },
    {
     "data": {
      "text/html": [
       "<style  type=\"text/css\" >\n",
       "</style>  \n",
       "<table id=\"T_d69cd46a_56e8_11e9_a009_68f72883802a\" > \n",
       "<thead>    <tr> \n",
       "        <th class=\"blank level0\" ></th> \n",
       "        <th class=\"col_heading level0 col0\" >$\\langle \\delta \\rangle $</th> \n",
       "        <th class=\"col_heading level0 col1\" >$\\sigma_\\delta$</th> \n",
       "        <th class=\"col_heading level0 col2\" >$\\sigma_{68}$</th> \n",
       "        <th class=\"col_heading level0 col3\" >$\\xi$</th> \n",
       "    </tr></thead> \n",
       "<tbody>    <tr> \n",
       "        <th id=\"T_d69cd46a_56e8_11e9_a009_68f72883802alevel0_row0\" class=\"row_heading level0 row0\" >0</th> \n",
       "        <td id=\"T_d69cd46a_56e8_11e9_a009_68f72883802arow0_col0\" class=\"data row0 col0\" >\\$2.26E-03\\$ &</td> \n",
       "        <td id=\"T_d69cd46a_56e8_11e9_a009_68f72883802arow0_col1\" class=\"data row0 col1\" >\\$0.081\\$ &</td> \n",
       "        <td id=\"T_d69cd46a_56e8_11e9_a009_68f72883802arow0_col2\" class=\"data row0 col2\" >\\$0.040\\$ &</td> \n",
       "        <td id=\"T_d69cd46a_56e8_11e9_a009_68f72883802arow0_col3\" class=\"data row0 col3\" >\\$3.77\\%\\$</td> \n",
       "    </tr></tbody> \n",
       "</table> "
      ],
      "text/plain": [
       "<pandas.io.formats.style.Styler at 0x7faaf07dfd68>"
      ]
     },
     "execution_count": 6,
     "metadata": {},
     "output_type": "execute_result"
    }
   ],
   "source": [
    "df = pd.read_csv(\"../../ML runs/SPEC_advanced23/ANNZ_randomReg_0000.csv\",header=0)\n",
    "\n",
    "df_cut = df.loc[abs(df['F:ANNZ_best']) < 2]\n",
    "\n",
    "print(\"Pre-cut size = {}\\n\\nPost-cut size = {}\".format(df.shape[0],df_cut.shape[0]))\n",
    "\n",
    "stats, objs = compute_error_stats_spec(df_cut)\n",
    "\n",
    "column_labels = [r\"$\\langle \\delta \\rangle $\",r\"$\\sigma_\\delta$\",r\"$\\sigma_{68}$\",r\"$\\xi$\"]\n",
    "results = pd.DataFrame(np.array(stats)[None,:],columns=column_labels)\n",
    "results.style.format({column_labels[0]: \"\\${:.2E}\\$ &\", column_labels[1]: '\\${:.3f}\\$ &', column_labels[2]: '\\${:.3f}\\$ &', column_labels[3]: '\\${:.2f}\\%\\$'})\n"
   ]
  },
  {
   "cell_type": "code",
   "execution_count": null,
   "metadata": {},
   "outputs": [],
   "source": []
  }
 ],
 "metadata": {
  "kernelspec": {
   "display_name": "Python 3",
   "language": "python",
   "name": "python3"
  },
  "language_info": {
   "codemirror_mode": {
    "name": "ipython",
    "version": 3
   },
   "file_extension": ".py",
   "mimetype": "text/x-python",
   "name": "python",
   "nbconvert_exporter": "python",
   "pygments_lexer": "ipython3",
   "version": "3.6.7"
  }
 },
 "nbformat": 4,
 "nbformat_minor": 2
}
