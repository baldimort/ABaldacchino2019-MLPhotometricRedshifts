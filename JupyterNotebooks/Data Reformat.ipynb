{
 "cells": [
  {
   "cell_type": "code",
   "execution_count": 2,
   "metadata": {},
   "outputs": [],
   "source": [
    "%matplotlib inline\n",
    "\n",
    "import pandas as pd\n",
    "import numpy as np\n",
    "import matplotlib.pyplot as plt\n",
    "from matplotlib.colors import LogNorm\n",
    "import astropy.cosmology\n",
    "from astropy.cosmology import Planck15 as cosmo\n",
    "import scipy.stats\n",
    "import time"
   ]
  },
  {
   "cell_type": "code",
   "execution_count": 3,
   "metadata": {},
   "outputs": [],
   "source": [
    "# MAY NEED ADJUSTING DEPEDNING ON DEVICE/OS RUNNING\n",
    "data = pd.read_csv(\"../../Data/3947.csv\",comment='#')\n",
    "data['band'] = data['band'].str.slice(start=2).astype(int)\n",
    "# Converts 'band' column from type string to int"
   ]
  },
  {
   "cell_type": "code",
   "execution_count": 13,
   "metadata": {},
   "outputs": [],
   "source": [
    "data.iloc[:1000].to_csv(\"../../Data/reduced3947.csv\",)"
   ]
  },
  {
   "cell_type": "code",
   "execution_count": 47,
   "metadata": {},
   "outputs": [
    {
     "data": {
      "text/plain": [
       "array(['ref_id', 'zb', 'odds', 'pz_width', 'zb_mean', 'chi2', 'n_band',\n",
       "       'ebv', 'qz', 'best_run', 'production_id', 'paudm_id', 'ra', 'dec',\n",
       "       'zp_gal', 'zl68_gal', 'zu68_gal', 'zl99_gal', 'zu99_gal', 'zp_sec',\n",
       "       'dchi', 'imag', 'ei', 'i_auto', 'nbfilt', 'mod_gal', 'type',\n",
       "       'umag', 'bmag', 'vmag', 'gmag', 'rmag', 'zmag', 'icmag', 'jmag',\n",
       "       'kmag', 'mv', 'ebv_gal', 'ebv_int', 'acs_a_image', 'acs_b_image',\n",
       "       'acs_theta_image', 'acs_mag_auto', 'acs_magerr_auto', 'zspec',\n",
       "       'conf', 'f814w', 'zfits', 'r50', 'sersic_n_gim2d', '_col50',\n",
       "       'band', 'flux', 'flux_error', '_col54', 'n_coadd', 'run', '_col57'],\n",
       "      dtype=object)"
      ]
     },
     "execution_count": 47,
     "metadata": {},
     "output_type": "execute_result"
    }
   ],
   "source": [
    "data.columns.values\n",
    "# data.loc[data['ref_id']==5]\n",
    "\n"
   ]
  },
  {
   "cell_type": "markdown",
   "metadata": {},
   "source": [
    "### Creating new data frame of | ref_id_2 | z_photo | z_spec | n_bands |  bandx0 | bandx1 | ... |\n",
    "(Not all objects have z_spec info)"
   ]
  },
  {
   "cell_type": "code",
   "execution_count": 20,
   "metadata": {
    "scrolled": true
   },
   "outputs": [
    {
     "name": "stdout",
     "output_type": "stream",
     "text": [
      "0\n",
      "1000\n",
      "2000\n",
      "3000\n",
      "4000\n",
      "5000\n",
      "6000\n",
      "7000\n",
      "8000\n",
      "9000\n",
      "10000\n",
      "11000\n",
      "12000\n",
      "13000\n",
      "14000\n",
      "15000\n",
      "16000\n",
      "17000\n",
      "18000\n",
      "19000\n",
      "20000\n",
      "21000\n",
      "22000\n",
      "23000\n",
      "24000\n",
      "25000\n",
      "26000\n",
      "27000\n",
      "28000\n",
      "29000\n",
      "30000\n",
      "31000\n",
      "32000\n",
      "33000\n",
      "34000\n",
      "35000\n",
      "36000\n",
      "37000\n",
      "38000\n",
      "39000\n",
      "40000\n",
      "41000\n",
      "42000\n",
      "43000\n",
      "44000\n",
      "45000\n",
      "46000\n",
      "47000\n",
      "[40. 40. 40. ... 40. 40. 40.]\n"
     ]
    }
   ],
   "source": [
    "z_photo = []\n",
    "z_spec = []\n",
    "\n",
    "# data_nonan = data.loc[(data['ref_id_2'].notna())&(data['zspec'].notna())&(data['zspec']!=0)]\n",
    "bands = data['band'].unique()\n",
    "bands.sort()\n",
    "\n",
    "# object_ids = data_nonan['ref_id_1'].unique()\n",
    "\n",
    "truth_table = data['ref_id'].iloc[1:].values != data['ref_id'].iloc[:-1].values\n",
    "truth_table = np.append(truth_table, [True])\n",
    "data_sample = data.loc[truth_table,(data.columns != 'flux')&(data.columns != 'band')&(data.columns != 'flux_error')]\n",
    "object_ids = data_sample['ref_id']\n",
    "# object_ids, z_photo, z_spec, obj_type, conf = \\\n",
    "#                         data_nonan.loc[truth_table]['ref_id_2'].values,\\\n",
    "#                         data_nonan.loc[truth_table]['zb'].values,\\\n",
    "#                         data_nonan.loc[truth_table]['zspec'].values, \\\n",
    "#                         data_nonan.loc[truth_table]['type'].values, \\\n",
    "#                         data_nonan.loc[truth_table]['conf'].values\n",
    "\n",
    "\n",
    "band_counts = []\n",
    "band_data = np.zeros((object_ids.size,bands.size*3+1))\n",
    "band_data[:,:] = np.nan\n",
    "# band_data[0,:] = bands[:]\n",
    "\n",
    "for ind,i in enumerate(object_ids):\n",
    "    if ind % 1000 == 0: print(ind)\n",
    "    \n",
    "    band_counts = data.loc[(data['ref_id'] == i),'band'].count()\n",
    "#     print(band_counts)\n",
    "    band_data[ind,-1] = band_counts\n",
    "    sample = data.loc[(data['ref_id'] == i)].sort_values(by=['band'])\n",
    "#     print(sample)\n",
    "    fluxs = sample['flux'].values\n",
    "    flux_errors = sample['flux_error'].values\n",
    "    band_sample = sample['band'].values\n",
    "    \n",
    "    for e,i in enumerate(bands):\n",
    "        \n",
    "        if np.all(i != band_sample): continue\n",
    "        else:\n",
    "            band_data[ind,0+e] = band_sample[band_sample == i][:]\n",
    "            band_data[ind,40+e] = fluxs[band_sample == i][:]\n",
    "            band_data[ind,80+e] = flux_errors[band_sample == i][:]\n",
    "        \n",
    "#     print(band_data)\n",
    "    \n",
    "#     fluxs = sample['flux'].values\n",
    "#     if fluxs.size == 40:\n",
    "#         band_data[ind+1,:] = fluxs[:]\n",
    "        \n",
    "#     else:    \n",
    "#         for j,b in enumerate(bands):\n",
    "#             try:\n",
    "#                 flux = data_nonan.loc[(data_nonan['ref_id_2'] == i)&(data_nonan['band'] == b)]['flux'].values[:]\n",
    "#                 band_data[ind+1,j] = flux\n",
    "#             except Exception as e:\n",
    "#     #             print(i,b,flux)\n",
    "#     #             print(e)\n",
    "#                 continue\n",
    "# print(band_data)\n",
    "# print(band_data[:,-1])\n",
    "band_headers = np.array(['band{}'.format(i) for i in range(40)])\n",
    "flux_headers = np.array(['band{}_flux'.format(i) for i in range(40)])\n",
    "flux_error_headers = np.array(['band{}_flux_error'.format(i) for i in range(40)])\n",
    "headers = np.append(band_headers,flux_headers)\n",
    "headers = np.append(headers,flux_error_headers)\n",
    "headers = np.append(headers,['n_bands'])\n",
    "\n",
    "band_data_df = pd.DataFrame(data=band_data[:,:],columns=headers)\n",
    "# datasetup = {'ref_id_2':object_ids,'z_photo':z_photo,'z_spec':z_spec,'type':obj_type,'conf':conf,'n_bands':band_counts}\n",
    "data_sample.reset_index(drop=True,inplace=True)\n",
    "objects_zbs_df = data_sample.join(band_data_df)\n",
    "\n",
    "# objects_zbs_df.reset_index(drop=True,inplace=True)\n",
    "\n",
    "objects_zbs_df.to_pickle\\\n",
    "        (\"../../Data/Object_zs_zp{}.pkl.gz\".format(time.strftime(\"_%y%m%d_%H%M%S\")),\"gzip\")"
   ]
  },
  {
   "cell_type": "code",
   "execution_count": 21,
   "metadata": {},
   "outputs": [],
   "source": [
    "# Generating df with object_id - zphoto - zspec\n",
    "# Has been saved to data folder so can be read from \"Object_zs_zp.pkl.gz\"\n",
    "\n",
    "objects_zbs_df = pd.read_pickle(\"../../Data/Object_zs_zp_181203_130401.pkl.gz\")\n",
    "\n",
    "# objects_zbs_df.loc[objects_zbs_df['ref_id_2'] == '107515']\n"
   ]
  },
  {
   "cell_type": "code",
   "execution_count": 23,
   "metadata": {},
   "outputs": [],
   "source": [
    "objects_zbs_df.to_csv(\"../../Data/reformatted3947_2.csv\")"
   ]
  },
  {
   "cell_type": "code",
   "execution_count": 22,
   "metadata": {},
   "outputs": [],
   "source": [
    "np.savetxt('../../Data/test.txt',objects_zbs_df.values,fmt=\"%8.3f\",newline=\"\\n\\n\")"
   ]
  },
  {
   "cell_type": "code",
   "execution_count": 9,
   "metadata": {},
   "outputs": [
    {
     "data": {
      "text/plain": [
       "array(['band0_flux', 'band1_flux', 'band2_flux', 'band3_flux',\n",
       "       'band4_flux', 'band5_flux', 'band6_flux', 'band7_flux',\n",
       "       'band8_flux', 'band9_flux', 'band10_flux', 'band11_flux',\n",
       "       'band12_flux', 'band13_flux', 'band14_flux', 'band15_flux',\n",
       "       'band16_flux', 'band17_flux', 'band18_flux', 'band19_flux',\n",
       "       'band20_flux', 'band21_flux', 'band22_flux', 'band23_flux',\n",
       "       'band24_flux', 'band25_flux', 'band26_flux', 'band27_flux',\n",
       "       'band28_flux', 'band29_flux', 'band30_flux', 'band31_flux',\n",
       "       'band32_flux', 'band33_flux', 'band34_flux', 'band35_flux',\n",
       "       'band36_flux', 'band37_flux', 'band38_flux', 'band39_flux'],\n",
       "      dtype='<U11')"
      ]
     },
     "execution_count": 9,
     "metadata": {},
     "output_type": "execute_result"
    }
   ],
   "source": [
    "band_headers = np.array(['band{}'.format(i) for i in range(40)])\n",
    "flux_headers = np.array(['band{}_flux'.format(i) for i in range(40)])\n"
   ]
  },
  {
   "cell_type": "code",
   "execution_count": 20,
   "metadata": {},
   "outputs": [
    {
     "data": {
      "text/plain": [
       "(23, 2)"
      ]
     },
     "execution_count": 20,
     "metadata": {},
     "output_type": "execute_result"
    }
   ],
   "source": [
    "data.loc[data['ref_id_2']==90177].loc[:,['flux','band']].shape"
   ]
  },
  {
   "cell_type": "code",
   "execution_count": null,
   "metadata": {},
   "outputs": [],
   "source": []
  }
 ],
 "metadata": {
  "kernelspec": {
   "display_name": "Python 3",
   "language": "python",
   "name": "python3"
  },
  "language_info": {
   "codemirror_mode": {
    "name": "ipython",
    "version": 3
   },
   "file_extension": ".py",
   "mimetype": "text/x-python",
   "name": "python",
   "nbconvert_exporter": "python",
   "pygments_lexer": "ipython3",
   "version": "3.6.7"
  }
 },
 "nbformat": 4,
 "nbformat_minor": 2
}
